{
 "cells": [
  {
   "cell_type": "markdown",
   "metadata": {},
   "source": [
    "# Exercice Control Flow \n"
   ]
  },
  {
   "cell_type": "code",
   "execution_count": null,
   "metadata": {},
   "outputs": [
    {
     "ename": "TypeError",
     "evalue": "unsupported operand type(s) for /: 'tuple' and 'int'",
     "output_type": "error",
     "traceback": [
      "\u001b[0;31m---------------------------------------------------------------------------\u001b[0m",
      "\u001b[0;31mTypeError\u001b[0m                                 Traceback (most recent call last)",
      "Cell \u001b[0;32mIn[2], line 13\u001b[0m\n\u001b[1;32m     11\u001b[0m an, bn \u001b[38;5;241m=\u001b[39m \u001b[38;5;241m1.\u001b[39m, math\u001b[38;5;241m.\u001b[39msqrt(\u001b[38;5;241m2\u001b[39m)\n\u001b[1;32m     12\u001b[0m \u001b[38;5;28;01mwhile\u001b[39;00m \u001b[38;5;28mabs\u001b[39m(an \u001b[38;5;241m-\u001b[39m bn) \u001b[38;5;241m>\u001b[39m tol:\n\u001b[0;32m---> 13\u001b[0m     an, bn \u001b[38;5;241m=\u001b[39m (an, bn) \u001b[38;5;241m/\u001b[39m \u001b[38;5;241m2\u001b[39m, math\u001b[38;5;241m.\u001b[39msqrt(an \u001b[38;5;241m*\u001b[39mbn)\n\u001b[1;32m     15\u001b[0m \u001b[38;5;28mprint\u001b[39m(\u001b[38;5;124m\"\u001b[39m\u001b[38;5;124mG = \u001b[39m\u001b[38;5;132;01m{:.14f}\u001b[39;00m\u001b[38;5;124m\"\u001b[39m\u001b[38;5;241m.\u001b[39mformat(\u001b[38;5;241m1\u001b[39m\u001b[38;5;241m/\u001b[39man))\n",
      "\u001b[0;31mTypeError\u001b[0m: unsupported operand type(s) for /: 'tuple' and 'int'"
     ]
    }
   ],
   "source": [
    "# Write a while loop to calculate the arithmetic-geometric mean (AGM) of two positive real numbers, x and y\n",
    "# Defined as the limit of the sequences: \n",
    "\n",
    "# a n+1 = 1/2 (an +bn)\n",
    "# b n+1 = sqrt(anbn)\n",
    "\n",
    "#Starting with  a0 = x, b0 = y. Both sequances coverge to the same number, denoted agm(x,y)\n",
    "\n",
    "import math\n",
    "tol = 1.e-14\n",
    "an, bn = 1., math.sqrt(2)\n",
    "while abs(an - bn) > tol:\n",
    "    an, bn = (an, bn) / 2, math.sqrt(an * bn)\n",
    "\n",
    "print(\"G = {:.14f}\".format(1/an))\n"
   ]
  },
  {
   "cell_type": "code",
   "execution_count": 7,
   "metadata": {},
   "outputs": [],
   "source": [
    "#Using scipy,special.agm \n",
    "\"\"\"\n",
    "a_{n+1} = (a_n +b_n)/2\n",
    "b_{n+1} = sqrt(a_n * b_n)\n",
    "\n",
    "Parameters: \n",
    "a, b,: array_lile \n",
    "real values only. if the values are both negative, the result is negative. If one values is negative and the other is positive\n",
    "nan is returned\n",
    "\n",
    "\"\"\"\n",
    "\n",
    "import numpy as np\n",
    "from scipy.special import agm"
   ]
  },
  {
   "cell_type": "code",
   "execution_count": 8,
   "metadata": {},
   "outputs": [
    {
     "data": {
      "text/plain": [
       "13.458171481725614"
      ]
     },
     "execution_count": 8,
     "metadata": {},
     "output_type": "execute_result"
    }
   ],
   "source": [
    "a , b = 24.0, 6.0\n",
    "agm(a, b)"
   ]
  },
  {
   "cell_type": "code",
   "execution_count": 16,
   "metadata": {},
   "outputs": [],
   "source": [
    "while a != b:\n",
    "    a, b = (a + b)/2, np.sqrt(a*b)\n",
    "    print(\"a = %19.6f b=%19.6f\" % (a, b))"
   ]
  },
  {
   "cell_type": "code",
   "execution_count": null,
   "metadata": {},
   "outputs": [],
   "source": []
  },
  {
   "cell_type": "code",
   "execution_count": 4,
   "metadata": {},
   "outputs": [
    {
     "name": "stdout",
     "output_type": "stream",
     "text": [
      "H3C-CH2-CH2-CH2-CH2-CH2-CH2-CH3\n"
     ]
    }
   ],
   "source": [
    "stoich = \"C8H18\"\n",
    "\n",
    "fragments = stoich.split('H')\n",
    "nC = int(fragments[0][1:])\n",
    "nH = int(fragments[1])\n",
    "if nH != 2*nC + 2:\n",
    "    print('{} is not an alkane!'.format(stoich))\n",
    "else:\n",
    "    print('H3C', end = '')\n",
    "    for i in range(nC-2):\n",
    "        print('-CH2', end= '')\n",
    "    print('-CH3')"
   ]
  },
  {
   "cell_type": "code",
   "execution_count": null,
   "metadata": {},
   "outputs": [],
   "source": []
  },
  {
   "cell_type": "code",
   "execution_count": 18,
   "metadata": {},
   "outputs": [
    {
     "name": "stdout",
     "output_type": "stream",
     "text": [
      "[H+] = 0.000413094 M, pH = 3.38\n"
     ]
    }
   ],
   "source": [
    "import math\n",
    "TOL = 1.e-10\n",
    "\n",
    "#Acid dissociation constant, acid concentration (M)\n",
    "\n",
    "Ka, c = 1.78e-5, 0.01\n",
    "\n",
    "Hp = 0.\n",
    "while True:\n",
    "    lastHp, Hp = Hp, math.sqrt(Ka*(c -Hp))\n",
    "    if abs(lastHp - Hp) < TOL:\n",
    "        break\n",
    "pH = -math.log10(Hp)\n",
    "\n",
    "print('[H+] = {:g} M, pH = {:.2f}'.format(Hp, pH))\n"
   ]
  },
  {
   "cell_type": "code",
   "execution_count": null,
   "metadata": {},
   "outputs": [],
   "source": []
  }
 ],
 "metadata": {
  "kernelspec": {
   "display_name": "base",
   "language": "python",
   "name": "python3"
  },
  "language_info": {
   "codemirror_mode": {
    "name": "ipython",
    "version": 3
   },
   "file_extension": ".py",
   "mimetype": "text/x-python",
   "name": "python",
   "nbconvert_exporter": "python",
   "pygments_lexer": "ipython3",
   "version": "3.11.5"
  }
 },
 "nbformat": 4,
 "nbformat_minor": 2
}
