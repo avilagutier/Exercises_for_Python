{
 "cells": [
  {
   "cell_type": "markdown",
   "metadata": {},
   "source": [
    "# Control Flow \n",
    "if.....elif.....else\n",
    "\n",
    "Allows statements to be executed conditionally, dependiong on the result of one or more logical test\n",
    "\n",
    "if <logical expression 1>:\n",
    "        <statements 1>\n",
    "elif <logical expression 2>:\n",
    "        <statements 2>\n",
    "    .\n",
    "    .\n",
    "    .\n",
    "    .\n",
    "\n",
    "else <logical expression 3>:\n",
    "        <statements>\n",
    "        "
   ]
  },
  {
   "cell_type": "code",
   "execution_count": 3,
   "metadata": {},
   "outputs": [
    {
     "name": "stdout",
     "output_type": "stream",
     "text": [
      "0 is less than or equal to three\n",
      "1 is less than or equal to three\n",
      "2 is less than or equal to three\n",
      "3 is less than or equal to three\n",
      "4 must be four or five, then\n",
      "5 must be four or five, then\n",
      "6 is greather than five\n",
      "7 is greather than five\n",
      "8 is greather than five\n",
      "9 is greather than five\n"
     ]
    }
   ],
   "source": [
    "for x in range(10):\n",
    "    if x <= 3: \n",
    "        print(x, \"is less than or equal to three\")\n",
    "    elif x > 5:\n",
    "        print(x,\"is greather than five\")\n",
    "    else:\n",
    "        print(x, \"must be four or five, then\")"
   ]
  },
  {
   "cell_type": "code",
   "execution_count": 4,
   "metadata": {},
   "outputs": [
    {
     "name": "stdout",
     "output_type": "stream",
     "text": [
      "0 is even!\n",
      "1 is odd!\n",
      "2 is even!\n",
      "3 is odd!\n",
      "4 is even!\n",
      "5 is odd!\n",
      "6 is even!\n",
      "7 is odd!\n",
      "8 is even!\n",
      "9 is odd!\n"
     ]
    }
   ],
   "source": [
    "#\n",
    "for x in range (10):\n",
    "    if x % 2: \n",
    "        print(x, 'is odd!') #x % 2 = 1 for odd intergers, which is equivalent to True\n",
    "    else:\n",
    "        print(x, 'is even!') # x % 2 = 0 for even intergers which is equivalent to False. "
   ]
  },
  {
   "cell_type": "code",
   "execution_count": 5,
   "metadata": {},
   "outputs": [
    {
     "name": "stdout",
     "output_type": "stream",
     "text": [
      "1900 is not a  leap year\n"
     ]
    }
   ],
   "source": [
    "\"\"\"\n",
    "Exemple: The gregorian calendar a year is a leap year if it is divisible by 4 with te exceptions that years divisible\n",
    "by 100 are not leap years unless they are also divisible by 400. \n",
    "The following Python program determines if year is a leap year. \n",
    "\"\"\"\n",
    "year = 1900\n",
    "\n",
    "if not year % 4000:\n",
    "    is_leap_year = True\n",
    "elif not year % 100:\n",
    "    is_leap_year = False\n",
    "elif not year % 4:\n",
    "    is_leap_year = True\n",
    "else:\n",
    "    is_leap_year = False\n",
    "\n",
    "s_ly = \"is a \" if is_leap_year else \"is not a \"\n",
    "print('{:4d} {:s} leap year'.format(year, s_ly))"
   ]
  },
  {
   "cell_type": "markdown",
   "metadata": {},
   "source": [
    "# While Loop \n",
    "Whereas a for loop is established for a fized number of iterations, statements within the block of a while lopp execute only and as long as some condition holds:"
   ]
  },
  {
   "cell_type": "code",
   "execution_count": 1,
   "metadata": {},
   "outputs": [
    {
     "name": "stdout",
     "output_type": "stream",
     "text": [
      "1 . 2 . 3 . 4 . 5 . 6 . 7 . 8 . 9 . 10 . \n"
     ]
    }
   ],
   "source": [
    "i = 0 \n",
    "while i < 10:\n",
    "    i += 1\n",
    "    print(i, end=' . ')\n",
    "\n",
    "print()"
   ]
  },
  {
   "cell_type": "code",
   "execution_count": 2,
   "metadata": {},
   "outputs": [
    {
     "name": "stdout",
     "output_type": "stream",
     "text": [
      "21\n"
     ]
    }
   ],
   "source": [
    "\"\"\"\n",
    "Ex. While Loop\n",
    "Euclid algorithm for finding the greatest common divisor of two numbers, gcd(a,b)\n",
    "\"\"\"\n",
    "\n",
    "a, b = 1071, 462\n",
    "while b:\n",
    "    a, b = b, a % b\n",
    "\n",
    "print(a)\n",
    "\n",
    "\"\"\"\n",
    "The loop continues until b devides a exactly; on each iteration, b is set to be remainder of a//b and \n",
    "then is set to the old value of b.\n",
    "\"\"\""
   ]
  },
  {
   "cell_type": "markdown",
   "metadata": {},
   "source": [
    "# break, continue and pass \n",
    "For controlling the flow of the programm, Python provides three statements. \n",
    "\n",
    "Break command, issued inside a loop, immendiately ends that loop and moves execution to the statements following the loop. \n",
    "\n",
    "Continue: acts similiar to break but he continues the loop, it immediately forces the next iteration for the loop without completing the statement block\n",
    "\n",
    "Pass:  does nothing. \n"
   ]
  },
  {
   "cell_type": "code",
   "execution_count": 3,
   "metadata": {},
   "outputs": [
    {
     "name": "stdout",
     "output_type": "stream",
     "text": [
      "75 is divisible by both 15 and 25\n"
     ]
    },
    {
     "data": {
      "text/plain": [
       "'\\nWhile loop condition in this case its always True so the only scape from the loop occurs when the break statement is reached\\nThis occurs only when the counter x is divisible by both 15 and 25. \\n'"
      ]
     },
     "execution_count": 3,
     "metadata": {},
     "output_type": "execute_result"
    }
   ],
   "source": [
    "x = 0\n",
    "while True:\n",
    "    x += 1\n",
    "    if not (x % 15 or x % 25):\n",
    "        break\n",
    "print(x, 'is divisible by both 15 and 25')\n",
    "\n",
    "\"\"\"\n",
    "While loop condition in this case its always True so the only scape from the loop occurs when the break statement is reached\n",
    "This occurs only when the counter x is divisible by both 15 and 25. \n",
    "\"\"\""
   ]
  },
  {
   "cell_type": "code",
   "execution_count": 4,
   "metadata": {},
   "outputs": [
    {
     "name": "stdout",
     "output_type": "stream",
     "text": [
      "-2 occours at index 3\n"
     ]
    }
   ],
   "source": [
    "alist = [0, 4, 5, -2, 5, 10]\n",
    "for i, a in enumerate(alist):\n",
    "    if a < 0:\n",
    "        break\n",
    "print(a, 'occours at index', i)"
   ]
  },
  {
   "cell_type": "code",
   "execution_count": 5,
   "metadata": {},
   "outputs": [
    {
     "name": "stdout",
     "output_type": "stream",
     "text": [
      "2 is even!\n",
      "4 is even!\n",
      "6 is even!\n",
      "8 is even!\n",
      "10 is even!\n"
     ]
    }
   ],
   "source": [
    "#Continue \n",
    "for i in range (1, 11):\n",
    "    if i % 2: \n",
    "        continue\n",
    "    print(i, 'is even!')"
   ]
  },
  {
   "cell_type": "markdown",
   "metadata": {},
   "source": [
    "# else\n",
    "a for or while loop may be follored by an else block of statements, which will be executed only if the loop finishec \"normaly\"\n",
    "\n",
    "For for loops, the statements will be executed after the loop has reached the end of the sequences it is iterating over. \n",
    "For while loops, thet arec executed when the while contitions becomes False. "
   ]
  },
  {
   "cell_type": "code",
   "execution_count": 6,
   "metadata": {},
   "outputs": [
    {
     "name": "stdout",
     "output_type": "stream",
     "text": [
      "10 occurs at index 5\n"
     ]
    }
   ],
   "source": [
    "# Find the dirs occurrence of a negative number in a list \n",
    "\n",
    "alist =[0, 4, 5, 2, 5, 10]\n",
    "for i, a in enumerate(alist):\n",
    "    if a < 0:\n",
    "        break\n",
    "\n",
    "print(a, 'occurs at index', i)"
   ]
  },
  {
   "cell_type": "code",
   "execution_count": 7,
   "metadata": {},
   "outputs": [
    {
     "name": "stdout",
     "output_type": "stream",
     "text": [
      "no negative numbers in the list\n"
     ]
    }
   ],
   "source": [
    "# a way to improve the programm\n",
    "alist =[0, 4, 5, 2, 5, 10]\n",
    "for i, a in enumerate(alist):\n",
    "    if a < 0:\n",
    "        break\n",
    "else:\n",
    "    print('no negative numbers in the list')"
   ]
  },
  {
   "cell_type": "code",
   "execution_count": 9,
   "metadata": {},
   "outputs": [
    {
     "name": "stdout",
     "output_type": "stream",
     "text": [
      "1013 is pirme!\n"
     ]
    }
   ],
   "source": [
    "# Finding largest factor of a number a > 2: \n",
    "# The while loop continues as long as b is not equal to 1\n",
    "# and decrements b after testing if b divides a exactly\n",
    "# If it does, b is the highest factor of a, and we break out the while loop\n",
    "\n",
    "a = 1013 \n",
    "b = a - 1\n",
    "while b != 1:\n",
    "    if not a %b:\n",
    "        print(\"The largest factor of\", a, \"is\", b)\n",
    "        break\n",
    "    b -= 1\n",
    "else: \n",
    "    print(a, 'is pirme!')"
   ]
  },
  {
   "cell_type": "markdown",
   "metadata": {},
   "source": []
  }
 ],
 "metadata": {
  "kernelspec": {
   "display_name": "base",
   "language": "python",
   "name": "python3"
  },
  "language_info": {
   "codemirror_mode": {
    "name": "ipython",
    "version": 3
   },
   "file_extension": ".py",
   "mimetype": "text/x-python",
   "name": "python",
   "nbconvert_exporter": "python",
   "pygments_lexer": "ipython3",
   "version": "3.11.5"
  }
 },
 "nbformat": 4,
 "nbformat_minor": 2
}
