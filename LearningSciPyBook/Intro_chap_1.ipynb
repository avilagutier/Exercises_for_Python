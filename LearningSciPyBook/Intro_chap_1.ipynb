{
 "cells": [
  {
   "cell_type": "markdown",
   "id": "b47c46a4-f2b0-484f-9987-717cd2f18da1",
   "metadata": {},
   "source": [
    "# Mathematical Functions\n"
   ]
  },
  {
   "cell_type": "code",
   "execution_count": 3,
   "id": "7738447a-c7e1-44b1-8a01-d47cdc3de82e",
   "metadata": {},
   "outputs": [
    {
     "data": {
      "text/plain": [
       "4.4816890703380645"
      ]
     },
     "execution_count": 3,
     "metadata": {},
     "output_type": "execute_result"
    }
   ],
   "source": [
    "\"\"\"\n",
    "math module concerns itself with floating point and integer operations\n",
    "of complex numbers (cmath). Functions called them inseide parantheses\n",
    "\"\"\"\n",
    "import math\n",
    "math.exp(1.5)"
   ]
  },
  {
   "cell_type": "code",
   "execution_count": 5,
   "id": "d69c464b-b649-4338-9a85-4cf43554e4a0",
   "metadata": {},
   "outputs": [
    {
     "data": {
      "text/plain": [
       "1.0"
      ]
     },
     "execution_count": 5,
     "metadata": {},
     "output_type": "execute_result"
    }
   ],
   "source": [
    "math.cos(0)"
   ]
  },
  {
   "cell_type": "code",
   "execution_count": 7,
   "id": "89c2bff8-5ed6-4223-a850-1b1683f8d8ed",
   "metadata": {},
   "outputs": [
    {
     "data": {
      "text/plain": [
       "-1.0"
      ]
     },
     "execution_count": 7,
     "metadata": {},
     "output_type": "execute_result"
    }
   ],
   "source": [
    "\"\"\"\n",
    "math module also provides two very useful nonfunctions attributes: math.pi and math.e\n",
    "give the values of pi and e, the base of the natural lorarithm, respectively. \n",
    "Possible to import the math module with \"from math import\" and access its functiosn directly\n",
    "\"\"\"\n",
    "\n",
    "from math import *\n",
    "cos(pi)"
   ]
  },
  {
   "cell_type": "code",
   "execution_count": 9,
   "id": "2aa69a1e-f0de-43dc-802d-ccf3e2d1d238",
   "metadata": {},
   "outputs": [
    {
     "data": {
      "text/plain": [
       "1.0"
      ]
     },
     "execution_count": 9,
     "metadata": {},
     "output_type": "execute_result"
    }
   ],
   "source": [
    "#Example: \n",
    "math.sin(math.pi/2)"
   ]
  },
  {
   "cell_type": "code",
   "execution_count": 11,
   "id": "2b5efd4b-38ec-4787-97c5-b89cafe1ba47",
   "metadata": {},
   "outputs": [
    {
     "data": {
      "text/plain": [
       "30.000000000000004"
      ]
     },
     "execution_count": 11,
     "metadata": {},
     "output_type": "execute_result"
    }
   ],
   "source": [
    "math.degrees(math.acos(math.sqrt(3)/2))"
   ]
  },
  {
   "cell_type": "code",
   "execution_count": 13,
   "id": "26c79db9-ad55-4d16-86a9-eaeafc8653fe",
   "metadata": {},
   "outputs": [
    {
     "data": {
      "text/plain": [
       "4.63511081571606"
      ]
     },
     "execution_count": 13,
     "metadata": {},
     "output_type": "execute_result"
    }
   ],
   "source": [
    "\"\"\"\n",
    "Heron's formula gives the area, A, of a trianqle with sides a, b, c as \n",
    "A = sqrt(s(s-a)(s-b)(s-c)) where s = 1/2(a+b+c)\n",
    "\"\"\"\n",
    "\n",
    "a = 4.503\n",
    "b = 2.377\n",
    "c = 3.902\n",
    "s = (a + b + c) / 2\n",
    "area = math.sqrt(s*(s-a)*(s-b)*(s-c))\n",
    "area"
   ]
  },
  {
   "cell_type": "code",
   "execution_count": 39,
   "id": "bf866958-0f71-4078-837a-570a0e3d4808",
   "metadata": {},
   "outputs": [
    {
     "data": {
      "text/plain": [
       "274849166719343.78"
      ]
     },
     "execution_count": 39,
     "metadata": {},
     "output_type": "execute_result"
    }
   ],
   "source": [
    "a = 6378137.0 \n",
    "c = 6356752.314245\n",
    "x = pi\n",
    "e = sqrt(1 - ((c)**2/(a)**2))\n",
    "s = (2 * pi * (a)**2) *((1+ ((1-(e)**2/e) * math.atanh(e))))\n",
    "s"
   ]
  },
  {
   "cell_type": "markdown",
   "id": "037126a8-d78e-4252-9ffb-1d180a44e7d8",
   "metadata": {},
   "source": [
    "# Print Function\n"
   ]
  },
  {
   "cell_type": "code",
   "execution_count": 47,
   "id": "6fcd71c7-ac01-4ffd-9cd9-55a04d34eb97",
   "metadata": {},
   "outputs": [
    {
     "name": "stdout",
     "output_type": "stream",
     "text": [
      "Solve : 2 x = 6 for x\n"
     ]
    }
   ],
   "source": [
    "ans = 6 \n",
    "print(\"Solve :\", 2, 'x =', ans,'for x')"
   ]
  },
  {
   "cell_type": "code",
   "execution_count": 59,
   "id": "3fdf63ab-6799-4726-b446-3dfad3970619",
   "metadata": {},
   "outputs": [
    {
     "name": "stdout",
     "output_type": "stream",
     "text": [
      "Solve: 2x = 6 for x !\n"
     ]
    }
   ],
   "source": [
    "print(\"Solve: \", 2, 'x = ', ans, ' for x ', sep='', end='!\\n')"
   ]
  },
  {
   "cell_type": "markdown",
   "id": "d48fca29-879d-415e-872b-ff757a8cfc2f",
   "metadata": {},
   "source": [
    "# String Formating"
   ]
  },
  {
   "cell_type": "code",
   "execution_count": 64,
   "id": "bc8f321f-2693-407f-92bf-06e9a3359a23",
   "metadata": {},
   "outputs": [
    {
     "data": {
      "text/plain": [
       "'2 plus 3 equals five'"
      ]
     },
     "execution_count": 64,
     "metadata": {},
     "output_type": "execute_result"
    }
   ],
   "source": [
    "\"\"\"\n",
    "Simplest form, possible to use string format method to insert objects into it.\n",
    "basic synthax\n",
    "\n",
    "'{} plus {} equals {}'.format(2, 3, 'five')\n",
    "\"\"\"\n",
    "'{} plus {} equals {}'.format(2, 3, 'five')"
   ]
  },
  {
   "cell_type": "code",
   "execution_count": 66,
   "id": "bfb9d9e5-f486-4452-88bd-2a6e3e0857ad",
   "metadata": {},
   "outputs": [
    {
     "data": {
      "text/plain": [
       "'3 plus 2 equals five'"
      ]
     },
     "execution_count": 66,
     "metadata": {},
     "output_type": "execute_result"
    }
   ],
   "source": [
    "'{1} plus {0} equals {2}'.format(2, 3, 'five')"
   ]
  },
  {
   "cell_type": "code",
   "execution_count": 68,
   "id": "312cb070-f784-4046-8e98-88bc66521f0f",
   "metadata": {},
   "outputs": [
    {
     "data": {
      "text/plain": [
       "'2 plus 3 equals five'"
      ]
     },
     "execution_count": 68,
     "metadata": {},
     "output_type": "execute_result"
    }
   ],
   "source": [
    "'{num1} plus {num2} equals {answer}'.format(num1 = 2, num2 = 3, answer = 'five')"
   ]
  },
  {
   "cell_type": "code",
   "execution_count": 70,
   "id": "b9af2b46-7433-46f9-9a2d-a7a6e6ea0e23",
   "metadata": {},
   "outputs": [
    {
     "data": {
      "text/plain": [
       "'h = 6.626e-34 J.s'"
      ]
     },
     "execution_count": 70,
     "metadata": {},
     "output_type": "execute_result"
    }
   ],
   "source": [
    "h = 6.62607015e-34\n",
    "h_units = 'J.s'\n",
    "f'h = {h:.3e} {h_units}'"
   ]
  },
  {
   "cell_type": "code",
   "execution_count": 72,
   "id": "434f51ca-5d23-4676-bdde-389b6fb82c3d",
   "metadata": {},
   "outputs": [
    {
     "name": "stdout",
     "output_type": "stream",
     "text": [
      "The radiuos is 2.5 m.\n"
     ]
    }
   ],
   "source": [
    "radius = 2.5 \n",
    "s = f'The radiuos is {radius} m.'\n",
    "print(s)"
   ]
  },
  {
   "cell_type": "markdown",
   "id": "084bdde8-e317-4b0a-bbea-e3910782f5b4",
   "metadata": {},
   "source": [
    "# For Loops \n",
    "iterable object one by one and do something with each in turn. "
   ]
  },
  {
   "cell_type": "code",
   "execution_count": 82,
   "id": "dfe83b42-4457-4d44-a594-28650e1743e7",
   "metadata": {},
   "outputs": [
    {
     "name": "stdout",
     "output_type": "stream",
     "text": [
      "manzan\n",
      "platano\n",
      "naranja\n"
     ]
    }
   ],
   "source": [
    "\"\"\"\n",
    "for item in iterable object:\n",
    "which yields each element of the iterable object in turns to be processed by the subsequent block of code. \n",
    "\"\"\"\n",
    "\n",
    "fruit_list = ['manzan', 'platano', 'naranja']\n",
    "for fruit in fruit_list:\n",
    "    print(fruit)"
   ]
  },
  {
   "cell_type": "code",
   "execution_count": 84,
   "id": "a2e24cdc-8f30-43b5-8038-a0c14dcfa6e0",
   "metadata": {},
   "outputs": [
    {
     "name": "stdout",
     "output_type": "stream",
     "text": [
      "m.a.n.z.a.n.\n",
      "p.l.a.t.a.n.o.\n",
      "n.a.r.a.n.j.a.\n"
     ]
    }
   ],
   "source": [
    "#Iterate over the string items in fruit_list one by one and for each string, iterate over its letters\n",
    "fruit_list = ['manzan', 'platano', 'naranja']\n",
    "for fruit in fruit_list:\n",
    "    for letter in fruit:\n",
    "        print(letter, end = '.')\n",
    "    print()"
   ]
  },
  {
   "cell_type": "code",
   "execution_count": null,
   "id": "7e38d318-91c1-4327-a2b0-1e0daaa2aaf0",
   "metadata": {},
   "outputs": [],
   "source": [
    "# Range Type\n",
    "provides an efficient method of referring to a sequence of numbers that forms a simple arithmetic progression\n",
    "an = a0 +nd for n = 0, 1, 2, ....."
   ]
  },
  {
   "cell_type": "code",
   "execution_count": 91,
   "id": "462fb1c9-c4a4-46b0-8eaa-6b4cdcfcba49",
   "metadata": {},
   "outputs": [],
   "source": [
    "a = range (9) #0, 1, 2, 3, 4, 5, 6, 7, 8\n",
    "b = range (1, 6) #1, 2, 3, 4, 5\n",
    "c = range (0, 6, 2) #0, 2, 4\n",
    "d = range (10, 0, -2) #10, 8, 6, 4, 2"
   ]
  },
  {
   "cell_type": "code",
   "execution_count": 96,
   "id": "5ec23f94-8165-4d89-8230-b916177f36e6",
   "metadata": {},
   "outputs": [
    {
     "name": "stdout",
     "output_type": "stream",
     "text": [
      "[1, 1, 2, 3, 5, 8, 13, 21, 34, 55, 89, 144, 233, 377, 610, 987, 1597, 2584, 4181, 6765, 10946, 17711, 28657, 46368, 75025, 121393, 196418, 317811, 514229, 832040, 1346269, 2178309, 3524578, 5702887, 9227465, 14930352, 24157817, 39088169, 63245986, 102334155, 165580141, 267914296, 433494437, 701408733, 1134903170, 1836311903, 2971215073, 4807526976, 7778742049, 12586269025, 20365011074, 32951280099, 53316291173, 86267571272, 139583862445, 225851433717, 365435296162, 591286729879, 956722026041, 1548008755920, 2504730781961, 4052739537881, 6557470319842, 10610209857723, 17167680177565, 27777890035288, 44945570212853, 72723460248141, 117669030460994, 190392490709135, 308061521170129, 498454011879264, 806515533049393, 1304969544928657, 2111485077978050, 3416454622906707, 5527939700884757, 8944394323791464, 14472334024676221, 23416728348467685, 37889062373143906, 61305790721611591, 99194853094755497, 160500643816367088, 259695496911122585, 420196140727489673, 679891637638612258, 1100087778366101931, 1779979416004714189, 2880067194370816120, 4660046610375530309, 7540113804746346429, 12200160415121876738, 19740274219868223167, 31940434634990099905, 51680708854858323072, 83621143489848422977, 135301852344706746049, 218922995834555169026, 354224848179261915075, 573147844013817084101]\n"
     ]
    }
   ],
   "source": [
    "\"\"\"\n",
    "Fibonacci sequence is the sequence of numbers generated by appliying the rules\n",
    "\n",
    "a1 = a2 = 1, ai = ai-1 + ai-2,\n",
    "\n",
    "Fibonaccio number is the sum of the previous two: 1, 1, 2, 3, 5, 8, 13.....\n",
    "\"\"\"\n",
    "\n",
    "#eg2-i-fibonacci\n",
    "#Calculate and stores the first n Fibonacci numbers\n",
    "\n",
    "n = 100\n",
    "fib = [1, 1]\n",
    "for i in range(2, n+1):\n",
    "    fib.append(fib[i-1] + fib[i-2])\n",
    "print(fib)"
   ]
  },
  {
   "cell_type": "code",
   "execution_count": 98,
   "id": "d4257d7c-c304-498f-ba48-7da892af7c02",
   "metadata": {},
   "outputs": [
    {
     "name": "stdout",
     "output_type": "stream",
     "text": [
      "1 1 2 3 5 8 13 21 34 55 89 144 233 377 610 987 1597 2584 4181 6765 10946 17711 28657 46368 75025 121393 196418 317811 514229 832040 1346269 2178309 3524578 5702887 9227465 14930352 24157817 39088169 63245986 102334155 165580141 267914296 433494437 701408733 1134903170 1836311903 2971215073 4807526976 7778742049 12586269025 20365011074 32951280099 53316291173 86267571272 139583862445 225851433717 365435296162 591286729879 956722026041 1548008755920 2504730781961 4052739537881 6557470319842 10610209857723 17167680177565 27777890035288 44945570212853 72723460248141 117669030460994 190392490709135 308061521170129 498454011879264 806515533049393 1304969544928657 2111485077978050 3416454622906707 5527939700884757 8944394323791464 14472334024676221 23416728348467685 37889062373143906 61305790721611591 99194853094755497 160500643816367088 259695496911122585 420196140727489673 679891637638612258 1100087778366101931 1779979416004714189 2880067194370816120 4660046610375530309 7540113804746346429 12200160415121876738 19740274219868223167 31940434634990099905 51680708854858323072 83621143489848422977 135301852344706746049 218922995834555169026 354224848179261915075 573147844013817084101"
     ]
    }
   ],
   "source": [
    "\"\"\"\n",
    "Alternatively, we can generate the series without storing\n",
    "more than two numbers at a time as follows\n",
    "\"\"\"\n",
    "#eg2-i-fibonacci\n",
    "#Calculate and stores the first n Fibonacci numbers\n",
    "#Keep track of the two most recent Fibonacci numbers\n",
    "\n",
    "a, b =  1, 1\n",
    "print (a, b, end = '')\n",
    "for i in range(2, n+1):\n",
    "    #The next number (b) is a+b: then a becomes the previous b.\n",
    "    a, b = b, a + b\n",
    "    print('', b, end = '')"
   ]
  },
  {
   "cell_type": "markdown",
   "id": "3dfdc67c-8aa9-4c92-96a5-de35b06701eb",
   "metadata": {},
   "source": [
    "# Enumerate \n",
    "Because tange objects can be used to produce a sequence of integers,\n",
    "it is tempting to use them to provide the indexes of listo or tuples \n",
    "when iterating over them in a for loop"
   ]
  },
  {
   "cell_type": "code",
   "execution_count": 105,
   "id": "98e5c19f-c059-42ed-ab76-d24db9d129b3",
   "metadata": {},
   "outputs": [
    {
     "name": "stdout",
     "output_type": "stream",
     "text": [
      "0 : Kanguro\n",
      "1 : lobo\n",
      "2 : chango\n"
     ]
    }
   ],
   "source": [
    "mammals = ['Kanguro', 'lobo', 'chango']\n",
    "for i in range(len(mammals)):\n",
    "    print(i, ':', mammals[i])\n",
    "#Works but its better to avoid the explicit construction of a range object\n",
    "#Using enumerate: method takes an iterable object and produces, for each item in turn, a tumple (count, item)"
   ]
  },
  {
   "cell_type": "code",
   "execution_count": 107,
   "id": "dc1b569e-f2fa-4643-ac35-291b701bad3e",
   "metadata": {},
   "outputs": [
    {
     "name": "stdout",
     "output_type": "stream",
     "text": [
      "0 : Kanguro\n",
      "1 : lobo\n",
      "2 : chango\n"
     ]
    }
   ],
   "source": [
    "mamamls = ['Kanguro', 'lobo', 'chango']\n",
    "for i, mammal in enumerate(mammals):\n",
    "    print(i, ':', mammal)"
   ]
  },
  {
   "cell_type": "code",
   "execution_count": 111,
   "id": "9b7ae792-ceaa-4c8b-a02b-69ccf4e08761",
   "metadata": {},
   "outputs": [
    {
     "data": {
      "text/plain": [
       "[(4, 'Kanguro'), (5, 'lobo'), (6, 'chango')]"
      ]
     },
     "execution_count": 111,
     "metadata": {},
     "output_type": "execute_result"
    }
   ],
   "source": [
    "list(enumerate(mammals, 4))"
   ]
  },
  {
   "cell_type": "markdown",
   "id": "af274c8b-93d0-4e48-9a76-5c895d6cca1e",
   "metadata": {},
   "source": [
    "# Zip \n",
    "What if we want to iterate over two (or more) sequence at the same time ? \n",
    "zip built-in-function is for: creates an iterator object in which each item is a tuple of items taken in turn from the sequences passed to it:"
   ]
  },
  {
   "cell_type": "code",
   "execution_count": 114,
   "id": "b799a9bc-dcde-48ae-b03d-940af1e776fd",
   "metadata": {},
   "outputs": [
    {
     "data": {
      "text/plain": [
       "<zip at 0x137da5540>"
      ]
     },
     "execution_count": 114,
     "metadata": {},
     "output_type": "execute_result"
    }
   ],
   "source": [
    "a = [1, 2, 3, 4]\n",
    "b = ['a', 'b', 'c', 'd']\n",
    "zip(a,b)"
   ]
  },
  {
   "cell_type": "code",
   "execution_count": 116,
   "id": "18ec9ea8-6bd5-4313-82bc-fce1f3db80a6",
   "metadata": {},
   "outputs": [
    {
     "name": "stdout",
     "output_type": "stream",
     "text": [
      "(1, 'a')\n",
      "(2, 'b')\n",
      "(3, 'c')\n",
      "(4, 'd')\n"
     ]
    }
   ],
   "source": [
    "for pair in zip(a,b):\n",
    "    print(pair)"
   ]
  },
  {
   "cell_type": "code",
   "execution_count": 118,
   "id": "6bc710ca-fa8c-4df8-81df-2baa56fde972",
   "metadata": {},
   "outputs": [
    {
     "data": {
      "text/plain": [
       "[(1, 'a'), (2, 'b'), (3, 'c'), (4, 'd')]"
      ]
     },
     "execution_count": 118,
     "metadata": {},
     "output_type": "execute_result"
    }
   ],
   "source": [
    "list(zip(a,b)) #convert to list"
   ]
  },
  {
   "cell_type": "code",
   "execution_count": 120,
   "id": "3f87d7ea-1a7f-466e-b2e4-65cadbc8e62f",
   "metadata": {},
   "outputs": [
    {
     "name": "stdout",
     "output_type": "stream",
     "text": [
      "(1, 2, 3, 4) ('a', 'b', 'c', 'd')\n"
     ]
    }
   ],
   "source": [
    "#A nice feature of zip is that it can be used to unzip sequences of tuples\n",
    "z = zip(a,b) #zip\n",
    "A, B = zip(*z) #unzip\n",
    "print(A,B)"
   ]
  },
  {
   "cell_type": "markdown",
   "id": "c17e61ed-5a3c-48c8-9de2-3ec962a8b4aa",
   "metadata": {},
   "source": [
    "# Control Flow\n",
    "Data objects are inspected and blocks of code executed conditionally on the baes of some test carried out on them. "
   ]
  },
  {
   "cell_type": "markdown",
   "id": "83de5d9c-df63-4ad5-9c8d-b17aa16236c0",
   "metadata": {},
   "source": [
    "# if .... elif.....else\n",
    "allows statements to be executed conditionally, depending on the result of one or more logical test (which evaluate to the boolean values True or False) "
   ]
  },
  {
   "cell_type": "code",
   "execution_count": 126,
   "id": "56bd1754-e690-4e1a-aee0-84a3725d9ee1",
   "metadata": {},
   "outputs": [
    {
     "name": "stdout",
     "output_type": "stream",
     "text": [
      "0 is less than or equal to three\n",
      "1 is less than or equal to three\n",
      "2 is less than or equal to three\n",
      "3 is less than or equal to three\n",
      "4 must be four or five, then\n",
      "5 must be four or five, then\n",
      "6 is grather than five\n",
      "7 is grather than five\n",
      "8 is grather than five\n",
      "9 is grather than five\n"
     ]
    }
   ],
   "source": [
    "\"\"\"\n",
    "if <logical expression 1> evaluates to True, <statements 1> are executed; \n",
    "otherwise, if <logical expression 2> evaluates to True, statements 2 are executed.\n",
    "\"\"\"\n",
    "\n",
    "for x in range(10):\n",
    "    if x <= 3:\n",
    "        print(x, 'is less than or equal to three')\n",
    "    elif x > 5:\n",
    "        print(x, 'is grather than five')\n",
    "    else: \n",
    "        print(x, 'must be four or five, then')\n"
   ]
  },
  {
   "cell_type": "code",
   "execution_count": null,
   "id": "f9ec33c1-b136-430b-976c-db54b3ffcb28",
   "metadata": {},
   "outputs": [],
   "source": []
  },
  {
   "cell_type": "code",
   "execution_count": null,
   "id": "4cc2b32d-1606-4608-a226-fdc7b0f8371f",
   "metadata": {},
   "outputs": [],
   "source": []
  },
  {
   "cell_type": "code",
   "execution_count": null,
   "id": "ca0e24fe-1d43-4d4a-a0a1-37561e1824b0",
   "metadata": {},
   "outputs": [],
   "source": []
  },
  {
   "cell_type": "code",
   "execution_count": null,
   "id": "f010455d-7280-497c-b6ad-1ae5d8965962",
   "metadata": {},
   "outputs": [],
   "source": []
  },
  {
   "cell_type": "code",
   "execution_count": null,
   "id": "5d60e618-323e-4543-9c87-5101ab72fcb3",
   "metadata": {},
   "outputs": [],
   "source": []
  },
  {
   "cell_type": "code",
   "execution_count": null,
   "id": "58f4e5c3-6247-4950-937a-2dcfffd05f58",
   "metadata": {},
   "outputs": [],
   "source": []
  }
 ],
 "metadata": {
  "kernelspec": {
   "display_name": "Python 3 (ipykernel)",
   "language": "python",
   "name": "python3"
  },
  "language_info": {
   "codemirror_mode": {
    "name": "ipython",
    "version": 3
   },
   "file_extension": ".py",
   "mimetype": "text/x-python",
   "name": "python",
   "nbconvert_exporter": "python",
   "pygments_lexer": "ipython3",
   "version": "3.11.5"
  }
 },
 "nbformat": 4,
 "nbformat_minor": 5
}
